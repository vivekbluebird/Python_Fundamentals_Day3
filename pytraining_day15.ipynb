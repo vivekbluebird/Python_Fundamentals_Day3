{
 "cells": [
  {
   "cell_type": "code",
   "execution_count": 3,
   "metadata": {},
   "outputs": [
    {
     "name": "stdout",
     "output_type": "stream",
     "text": [
      "enter the pin number :23jk\n",
      "Wrong input! please enter a valid pin\n"
     ]
    }
   ],
   "source": [
    "x=input(\"enter the pin number :\")\n",
    "try:\n",
    "    y=int(x)\n",
    "except:\n",
    "    y=-1\n",
    "\n",
    "if y>0:\n",
    "    print('Please enter the amount you want')\n",
    "    z=int(input())\n",
    "    if z>=100 and z<=500:\n",
    "        print(\"Go to counter no 1\")\n",
    "        \n",
    "    else:\n",
    "        print(\"Go back to home\")\n",
    "    \n",
    "\n",
    "else:\n",
    "    print('Wrong input! please enter a valid pin')\n"
   ]
  },
  {
   "cell_type": "code",
   "execution_count": 4,
   "metadata": {},
   "outputs": [
    {
     "name": "stdout",
     "output_type": "stream",
     "text": [
      "Its ok\n",
      "you are selected\n",
      "hello vivek\n",
      "how are you\n",
      "hello world\n",
      "hello vivek\n",
      "how are you\n",
      "hello world\n"
     ]
    }
   ],
   "source": [
    "def thing():\n",
    "    print(\"hello vivek\")\n",
    "    print(\"how are you\")\n",
    "def fun():\n",
    "    print(\"hello world\")    \n",
    "print(\"Its ok\")\n",
    "print(\"you are selected\")    \n",
    "thing()\n",
    "fun()\n",
    "thing()\n",
    "\n",
    "fun()    \n",
    "\n"
   ]
  },
  {
   "cell_type": "code",
   "execution_count": 5,
   "metadata": {},
   "outputs": [
    {
     "name": "stdout",
     "output_type": "stream",
     "text": [
      "v\n",
      " \n"
     ]
    }
   ],
   "source": [
    "big=max(\"vivek Kumar\")\n",
    "print(big)\n",
    "\n",
    "small=min(\"vivek Kumar\")\n",
    "print(small)\n"
   ]
  },
  {
   "cell_type": "code",
   "execution_count": 7,
   "metadata": {},
   "outputs": [
    {
     "name": "stdout",
     "output_type": "stream",
     "text": [
      "hey\n",
      "bye\n",
      "bye\n",
      "hello\n",
      "bye\n"
     ]
    }
   ],
   "source": [
    "def fun(time):\n",
    "    if time=='s':\n",
    "        print(\"hello\")\n",
    "    elif time=='d':\n",
    "        print(\"hey\")\n",
    "    else:\n",
    "        print(\"bye\")\n",
    "\n",
    "\n",
    "fun('d')\n",
    "fun('a')\n",
    "fun('f')\n",
    "fun('s')\n",
    "fun('h')        \n"
   ]
  },
  {
   "cell_type": "code",
   "execution_count": 8,
   "metadata": {},
   "outputs": [
    {
     "name": "stdout",
     "output_type": "stream",
     "text": [
      "Enter Hours:45\n",
      "Enter the rate500\n",
      "23750.0\n"
     ]
    }
   ],
   "source": [
    "def computepay(h,r):\n",
    "    if h < 40:\n",
    "        pay = h*r\n",
    "        return pay\n",
    "    else:\n",
    "        pay=(40*r)+(h-40)*1.5*r\n",
    "        return pay\n",
    "\n",
    "\n",
    "\n",
    "\n",
    "hrs = input(\"Enter Hours:\")\n",
    "h=float(hrs)\n",
    "\n",
    "rate = input(\"Enter the rate\")\n",
    "r=float(rate)\n",
    "\n",
    "p=computepay(h,r)\n",
    "print(p)\n"
   ]
  },
  {
   "cell_type": "code",
   "execution_count": 12,
   "metadata": {},
   "outputs": [
    {
     "name": "stdout",
     "output_type": "stream",
     "text": [
      ">name\n",
      "hi vivek\n",
      "welcome to python programming\n"
     ]
    }
   ],
   "source": [
    "while True:\n",
    "    a=input('>')\n",
    "    if a==\"name\":\n",
    "        print(\"hi vivek\")\n",
    "        break\n",
    "        print(\"python fundamental\")\n",
    "\n",
    "    else:\n",
    "        print(\"Enter your name\")\n",
    "        break\n",
    "print(\"welcome to python programming\")\n"
   ]
  },
  {
   "cell_type": "code",
   "execution_count": 13,
   "metadata": {},
   "outputs": [
    {
     "name": "stdout",
     "output_type": "stream",
     "text": [
      "enter the no of rows: 4\n",
      "   * \n",
      "  * * \n",
      " * * * \n",
      "* * * * \n",
      " * * * \n",
      "  * * \n",
      "   * \n"
     ]
    }
   ],
   "source": [
    "#def triangle(n):\n",
    "\n",
    "row=input(\"enter the no of rows: \")\n",
    "n=int(row)\n",
    "for i in range(n):\n",
    "   print(' '*(n-i-1)+'* '*(i+1))\n",
    "for j in range(n-1):\n",
    "    #print(' '*(j+1)+ '* '*(n-1-j))\n",
    "    print(' '*(j+1)+ '* '*(n-1-j))\n",
    "\n",
    "\n",
    "\n",
    "\n"
   ]
  },
  {
   "cell_type": "code",
   "execution_count": 21,
   "metadata": {},
   "outputs": [
    {
     "name": "stdout",
     "output_type": "stream",
     "text": [
      "{'money': 500, 'paisa': 100000, 'card': 16}\n",
      "100000\n"
     ]
    }
   ],
   "source": [
    "purse=dict()\n",
    "purse['money']=500\n",
    "purse['paisa']=100000\n",
    "purse['card']=7\n",
    "purse['card']=purse['card']+9\n",
    "print(purse)\n",
    "print(purse['paisa'])\n"
   ]
  },
  {
   "cell_type": "code",
   "execution_count": 22,
   "metadata": {},
   "outputs": [
    {
     "name": "stdout",
     "output_type": "stream",
     "text": [
      "{'raam': 1, 'shyam': 1, 'vivek': 3, 'vani': 5, 'suchana': 2}\n"
     ]
    }
   ],
   "source": [
    "school=dict()\n",
    "students=['raam','shyam','vivek','vani','suchana','vani','vivek','vani','suchana','vani','vivek','vani']\n",
    "for student in students:\n",
    "#    if student not in school:\n",
    "#        school[student]=1\n",
    "\n",
    "#    else:\n",
    "#        school[student]=school[student]+1\n",
    "    school[student]=school.get(student,0)+1\n",
    "print(school)\n"
   ]
  },
  {
   "cell_type": "code",
   "execution_count": 23,
   "metadata": {},
   "outputs": [
    {
     "name": "stdout",
     "output_type": "stream",
     "text": [
      "enter content to read\n",
      "i am very happy to see you. i am going to market .will you come.\n",
      "['i', 'am', 'very', 'happy', 'to', 'see', 'you.', 'i', 'am', 'going', 'to', 'market', '.will', 'you', 'come.']\n",
      "{'i': 2, 'am': 2, 'very': 1, 'happy': 1, 'to': 2, 'see': 1, 'you.': 1, 'going': 1, 'market': 1, '.will': 1, 'you': 1, 'come.': 1}\n"
     ]
    }
   ],
   "source": [
    "count=dict()\n",
    "print(\"enter content to read\")\n",
    "line=input('')\n",
    "\n",
    "\n",
    "words=line.split()\n",
    "print(words)\n",
    "\n",
    "for word in words:\n",
    "    count[word]=count.get(word,0)+1\n",
    "print(count)\n"
   ]
  },
  {
   "cell_type": "code",
   "execution_count": 24,
   "metadata": {},
   "outputs": [
    {
     "name": "stdout",
     "output_type": "stream",
     "text": [
      "vivek\n",
      "\n",
      "Hello Vivek, How are you?\n"
     ]
    }
   ],
   "source": [
    "import a as test\n",
    "car=test.T1()\n",
    "car.createname('vivek')\n",
    "car.displayname()\n",
    "car.greetname()"
   ]
  },
  {
   "cell_type": "code",
   "execution_count": 29,
   "metadata": {},
   "outputs": [
    {
     "name": "stdout",
     "output_type": "stream",
     "text": [
      "enter a numerator: 8\n",
      "enter a denominator: 0\n",
      "wrong input please try other\n"
     ]
    }
   ],
   "source": [
    "x=int(input(\"enter a numerator: \"))\n",
    "y=int(input(\"enter a denominator: \"))\n",
    "try :\n",
    "    z=x/y\n",
    "    print(z)\n",
    "    \n",
    "except ZeroDivisionError:\n",
    "    print(\"wrong input please try other\")\n",
    "    "
   ]
  },
  {
   "cell_type": "code",
   "execution_count": 30,
   "metadata": {},
   "outputs": [
    {
     "name": "stdout",
     "output_type": "stream",
     "text": [
      "Ruby: A Dynamic, General-Purpose Language Used To Build Web Applications.Ruby Is A Language Responsible \n",
      " For Building The Logic Behind Web Applications.\n",
      " Let'S Firstlearn The Fundamentals \n",
      " Of Ruby'S Syntax In This Lesson.\n"
     ]
    }
   ],
   "source": [
    "try:\n",
    "    with open('ruby.txt') as file1:\n",
    "        content=file1.read().title()\n",
    "    print(content)    \n",
    "except FileNotFoundError:\n",
    "    print(\"check your file\")\n"
   ]
  },
  {
   "cell_type": "code",
   "execution_count": 32,
   "metadata": {},
   "outputs": [
    {
     "name": "stdout",
     "output_type": "stream",
     "text": [
      "check your file\n"
     ]
    }
   ],
   "source": [
    "try:\n",
    "    with open('rubyfile.txt') as file1:\n",
    "        content=file1.read().title()\n",
    "    print(content)    \n",
    "except FileNotFoundError:\n",
    "    print(\"check your file\")\n"
   ]
  },
  {
   "cell_type": "code",
   "execution_count": null,
   "metadata": {},
   "outputs": [],
   "source": []
  }
 ],
 "metadata": {
  "kernelspec": {
   "display_name": "Python 3",
   "language": "python",
   "name": "python3"
  },
  "language_info": {
   "codemirror_mode": {
    "name": "ipython",
    "version": 3
   },
   "file_extension": ".py",
   "mimetype": "text/x-python",
   "name": "python",
   "nbconvert_exporter": "python",
   "pygments_lexer": "ipython3",
   "version": "3.7.1"
  }
 },
 "nbformat": 4,
 "nbformat_minor": 2
}
