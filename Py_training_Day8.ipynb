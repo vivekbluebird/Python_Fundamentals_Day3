{
 "cells": [
  {
   "cell_type": "code",
   "execution_count": 1,
   "metadata": {},
   "outputs": [
    {
     "name": "stdout",
     "output_type": "stream",
     "text": [
      "How are you?i am fine\n",
      "i am fine\n"
     ]
    }
   ],
   "source": [
    "a=input('How are you?')        # taking user input\n",
    "print(a)"
   ]
  },
  {
   "cell_type": "code",
   "execution_count": 3,
   "metadata": {},
   "outputs": [
    {
     "name": "stdout",
     "output_type": "stream",
     "text": [
      "enter your roll no:567284\n",
      "enter your dob08/07/1994\n",
      "\n",
      " your roll no is:567284\n",
      "\n",
      " your dob is:08/07/1994\n"
     ]
    }
   ],
   "source": [
    "r_no=input('enter your roll no:')    #taking input and enhancement\n",
    "d_no=input('enter your dob')\n",
    "print(f\"\\n your roll no is:{r_no}\")\n",
    "print(f\"\\n your dob is:{d_no}\")"
   ]
  },
  {
   "cell_type": "code",
   "execution_count": 5,
   "metadata": {},
   "outputs": [
    {
     "name": "stdout",
     "output_type": "stream",
     "text": [
      "enter radius7\n",
      "the circumference is:43.96\n"
     ]
    }
   ],
   "source": [
    "radius=int(input(\"enter radius\"))              # finding circumference\n",
    "c=2*3.14*radius\n",
    "print(f\"the circumference is:{c}\")"
   ]
  },
  {
   "cell_type": "code",
   "execution_count": 12,
   "metadata": {},
   "outputs": [
    {
     "name": "stdout",
     "output_type": "stream",
     "text": [
      "enter the emp name: Aman\n",
      "\n",
      "Aman is a data science professional\n"
     ]
    }
   ],
   "source": [
    "name=input(\"enter the emp name: \")                       # loops\n",
    "if name=='aman' or name=='Aman':\n",
    "    print(f\"\\n{name} is a data science professional\")\n",
    "else:\n",
    "    print(f\"\\n{name} is java professional\")"
   ]
  },
  {
   "cell_type": "code",
   "execution_count": 13,
   "metadata": {},
   "outputs": [
    {
     "name": "stdout",
     "output_type": "stream",
     "text": [
      "enter the emp name: vivek\n",
      "\n",
      "vivek is java professional\n"
     ]
    }
   ],
   "source": [
    "name=input(\"enter the emp name: \")\n",
    "if name=='aman' or name=='Aman':\n",
    "    print(f\"\\n{name} is a data science professional\")\n",
    "else:\n",
    "    print(f\"\\n{name} is java professional\")"
   ]
  },
  {
   "cell_type": "code",
   "execution_count": 15,
   "metadata": {},
   "outputs": [
    {
     "name": "stdout",
     "output_type": "stream",
     "text": [
      "These no are even:  2\n",
      "These no are even:  34\n",
      "These no are even:  54\n",
      "These no are odd:  67\n",
      "These no are odd:  65\n",
      "These no are even:  52\n",
      "These no are even:  78\n",
      "These no are even:  4\n",
      "These no are even:  6\n",
      "These no are even:  90\n",
      "These no are odd:  81\n"
     ]
    }
   ],
   "source": [
    "var_list=[2,34,54,67,65,52,78,4,6,90,81]                 # even and odd from list\n",
    "for i in var_list:\n",
    "    if i%2==0:\n",
    "        print('These no are even: ',i)\n",
    "    else:\n",
    "        print('These no are odd: ',i)"
   ]
  },
  {
   "cell_type": "code",
   "execution_count": 25,
   "metadata": {},
   "outputs": [
    {
     "name": "stdout",
     "output_type": "stream",
     "text": [
      "\n",
      "These no are even: [2, 34, 54, 52, 78, 4, 6, 90]\n",
      "\n",
      "These no are odd: [67, 65, 81]\n"
     ]
    }
   ],
   "source": [
    "var_list=[2,34,54,67,65,52,78,4,6,90,81]    # find even and odd and storing it in another list\n",
    "l1=[]\n",
    "l2=[]\n",
    "for i in var_list:\n",
    "    if i%2==0:\n",
    "        l1.append(i)\n",
    "        \n",
    "    else:\n",
    "        l2.append(i)\n",
    "        \n",
    "print(f'\\nThese no are even: {l1}') \n",
    "print(f'\\nThese no are odd: {l2}')"
   ]
  },
  {
   "cell_type": "code",
   "execution_count": 27,
   "metadata": {},
   "outputs": [
    {
     "name": "stdout",
     "output_type": "stream",
     "text": [
      "enter your namevivek kumar\n",
      "v\n",
      "i\n",
      "v\n",
      "e\n",
      "k\n"
     ]
    }
   ],
   "source": [
    "name2=input(\"enter your name\")           # handling spaces\n",
    "for x in name2:\n",
    "    if x==' ':\n",
    "        break\n",
    "    print(x)    "
   ]
  },
  {
   "cell_type": "code",
   "execution_count": 31,
   "metadata": {},
   "outputs": [
    {
     "name": "stdout",
     "output_type": "stream",
     "text": [
      "Before: None\n",
      "Loop: 15 74\n",
      "Largest: 74\n"
     ]
    }
   ],
   "source": [
    "largest = None                        # finding largest no\n",
    "print('Before:', largest)\n",
    "for y in [3, 41, 12, 9, 74, 15]:\n",
    "    if largest is None or y > largest:\n",
    "        largest = y\n",
    "    \n",
    "print('Loop:', y, largest)\n",
    "print('Largest:', largest)"
   ]
  },
  {
   "cell_type": "code",
   "execution_count": 32,
   "metadata": {},
   "outputs": [
    {
     "name": "stdout",
     "output_type": "stream",
     "text": [
      "Before: None\n",
      "Loop: 3 3\n",
      "Loop: 41 3\n",
      "Loop: 12 3\n",
      "Loop: 9 3\n",
      "Loop: 74 3\n",
      "Loop: 15 3\n",
      "Smallest: 3\n"
     ]
    }
   ],
   "source": [
    "smallest = None                          # finding smallest no\n",
    "print('Before:', smallest)\n",
    "for z in [3, 41, 12, 9, 74, 15]:\n",
    "    if smallest is None or z < smallest:\n",
    "        smallest = z\n",
    "    print('Loop:', z, smallest)\n",
    "print('Smallest:', smallest)    "
   ]
  },
  {
   "cell_type": "code",
   "execution_count": 34,
   "metadata": {},
   "outputs": [
    {
     "name": "stdout",
     "output_type": "stream",
     "text": [
      "Enter any word: maharastra\n",
      "4\n"
     ]
    }
   ],
   "source": [
    "word = input(\"Enter any word: \")           # finding count of 'a' in particular word\n",
    "count = 0\n",
    "for letter in word:\n",
    "    \n",
    "    if letter == 'a':\n",
    "        count = count + 1\n",
    "print(count)"
   ]
  },
  {
   "cell_type": "code",
   "execution_count": null,
   "metadata": {},
   "outputs": [],
   "source": []
  }
 ],
 "metadata": {
  "kernelspec": {
   "display_name": "Python 3",
   "language": "python",
   "name": "python3"
  },
  "language_info": {
   "codemirror_mode": {
    "name": "ipython",
    "version": 3
   },
   "file_extension": ".py",
   "mimetype": "text/x-python",
   "name": "python",
   "nbconvert_exporter": "python",
   "pygments_lexer": "ipython3",
   "version": "3.7.1"
  }
 },
 "nbformat": 4,
 "nbformat_minor": 2
}
