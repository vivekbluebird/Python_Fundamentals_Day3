{
 "cells": [
  {
   "cell_type": "code",
   "execution_count": 2,
   "metadata": {},
   "outputs": [
    {
     "name": "stdout",
     "output_type": "stream",
     "text": [
      "['mother', 'father', 'brother', 'sister', 'daughter', 'son', 'uncle', 'aunt']\n"
     ]
    }
   ],
   "source": [
    "family=['mother','father','brother','sister','daughter','son','uncle','aunt']\n",
    "print(family)"
   ]
  },
  {
   "cell_type": "code",
   "execution_count": 3,
   "metadata": {},
   "outputs": [
    {
     "data": {
      "text/plain": [
       "8"
      ]
     },
     "execution_count": 3,
     "metadata": {},
     "output_type": "execute_result"
    }
   ],
   "source": [
    "len(family)"
   ]
  },
  {
   "cell_type": "code",
   "execution_count": 9,
   "metadata": {},
   "outputs": [
    {
     "name": "stdout",
     "output_type": "stream",
     "text": [
      "\n",
      "mother, is the part of the family.\n",
      "\n",
      "father, is the part of the family.\n",
      "\n",
      "brother, is the part of the family.\n",
      "\n",
      "sister, is the part of the family.\n",
      "\n",
      "daughter, is the part of the family.\n",
      "\n",
      "son, is the part of the family.\n",
      "\n",
      "uncle, is the part of the family.\n",
      "\n",
      "aunt, is the part of the family.\n",
      "\n",
      "All make a joint family.\n"
     ]
    }
   ],
   "source": [
    "for i in family:\n",
    "    print(f\"\\n{i}, is the part of the family.\")\n",
    "print(\"\\nAll make a joint family.\")    "
   ]
  },
  {
   "cell_type": "code",
   "execution_count": 10,
   "metadata": {},
   "outputs": [
    {
     "name": "stdout",
     "output_type": "stream",
     "text": [
      "N\n",
      "O\n",
      "i\n",
      "d\n",
      "a\n",
      " \n",
      "E\n",
      "l\n",
      "e\n",
      "c\n",
      "t\n",
      "r\n",
      "o\n",
      "n\n",
      "i\n",
      "c\n",
      " \n",
      "C\n",
      "i\n",
      "t\n",
      "y\n"
     ]
    }
   ],
   "source": [
    "string=\"NOida Electronic City\"\n",
    "for i in string:\n",
    "    print(i)"
   ]
  },
  {
   "cell_type": "code",
   "execution_count": 11,
   "metadata": {},
   "outputs": [
    {
     "name": "stdout",
     "output_type": "stream",
     "text": [
      "vivek k\n",
      "vivek u\n",
      "vivek m\n",
      "vivek a\n",
      "vivek r\n"
     ]
    }
   ],
   "source": [
    "surname='kumar'\n",
    "for b in surname:\n",
    "    print('vivek',b)"
   ]
  },
  {
   "cell_type": "code",
   "execution_count": 20,
   "metadata": {},
   "outputs": [
    {
     "name": "stdout",
     "output_type": "stream",
     "text": [
      "23\n",
      "42\n",
      "56\n",
      "33\n",
      "vivek\n"
     ]
    }
   ],
   "source": [
    "list1=[23,42,56,33,'vivek']\n",
    "for j in list1:\n",
    "    print(j)"
   ]
  },
  {
   "cell_type": "code",
   "execution_count": 16,
   "metadata": {},
   "outputs": [
    {
     "name": "stdout",
     "output_type": "stream",
     "text": [
      "0\n",
      "1\n",
      "2\n",
      "3\n",
      "4\n",
      "5\n",
      "6\n",
      "7\n"
     ]
    }
   ],
   "source": [
    "for k in range(0,8):\n",
    "    print(k)"
   ]
  },
  {
   "cell_type": "code",
   "execution_count": 17,
   "metadata": {},
   "outputs": [
    {
     "name": "stdout",
     "output_type": "stream",
     "text": [
      "[0, 1, 2, 3, 4, 5, 6, 7]\n",
      "<class 'list'>\n"
     ]
    }
   ],
   "source": [
    "num=list(range(0,8))\n",
    "print(num)\n",
    "print(type(num))"
   ]
  },
  {
   "cell_type": "code",
   "execution_count": 19,
   "metadata": {},
   "outputs": [
    {
     "name": "stdout",
     "output_type": "stream",
     "text": [
      "[2, 4, 6, 8, 10, 12, 14, 16, 18]\n"
     ]
    }
   ],
   "source": [
    "ev_no=list(range(2,20,2))\n",
    "print(ev_no)"
   ]
  },
  {
   "cell_type": "code",
   "execution_count": 22,
   "metadata": {},
   "outputs": [
    {
     "name": "stdout",
     "output_type": "stream",
     "text": [
      "[3, 5, 7, 9, 11, 13, 15, 17, 19]\n"
     ]
    }
   ],
   "source": [
    "odd=list(range(3,20,2))\n",
    "print(odd)"
   ]
  },
  {
   "cell_type": "code",
   "execution_count": 31,
   "metadata": {},
   "outputs": [
    {
     "name": "stdout",
     "output_type": "stream",
     "text": [
      "minimum even= 2\n",
      "maximum even= 18\n",
      "sum even= 90\n",
      "minimum odd= 3\n",
      "maximum odd= 19\n",
      "sum odd= 99\n",
      "length even= 9\n",
      "length odd= 9\n"
     ]
    }
   ],
   "source": [
    "print('minimum even=',min(ev_no))\n",
    "print('maximum even=',max(ev_no))\n",
    "print('sum even=',sum(ev_no))\n",
    "print('minimum odd=',min(odd))\n",
    "print('maximum odd=',max(odd))\n",
    "print('sum odd=',sum(odd))\n",
    "print('length even=',len(ev_no))\n",
    "print('length odd=',len(odd))\n",
    "\n"
   ]
  },
  {
   "cell_type": "code",
   "execution_count": 32,
   "metadata": {},
   "outputs": [
    {
     "name": "stdout",
     "output_type": "stream",
     "text": [
      "(3, 2)\n",
      "3\n",
      "2\n",
      "(4, 5)\n",
      "4\n",
      "5\n",
      "(7, 9)\n",
      "7\n",
      "9\n",
      "(11, 16)\n",
      "11\n",
      "16\n"
     ]
    }
   ],
   "source": [
    "list3=[(3,2),(4,5),(7,9),(11,16)]  # printing list element and each element inside \n",
    "for i in list3:\n",
    "    print(i)\n",
    "    for j in i:\n",
    "        print(j)"
   ]
  },
  {
   "cell_type": "code",
   "execution_count": 33,
   "metadata": {},
   "outputs": [
    {
     "name": "stdout",
     "output_type": "stream",
     "text": [
      "3\n",
      "2\n",
      "4\n",
      "5\n",
      "7\n",
      "9\n",
      "11\n",
      "16\n"
     ]
    }
   ],
   "source": [
    "list3=[(3,2),(4,5),(7,9),(11,16)]        # printing each element in list\n",
    "for i in list3:\n",
    "    \n",
    "    for j in i:\n",
    "        print(j)"
   ]
  },
  {
   "cell_type": "code",
   "execution_count": 37,
   "metadata": {},
   "outputs": [
    {
     "name": "stdout",
     "output_type": "stream",
     "text": [
      "Happy Holi  Pranjal\n",
      "Happy Holi  Priyam\n",
      "Happy Holi  Vishal\n",
      "Done!\n"
     ]
    }
   ],
   "source": [
    "friends=['pranjal','priyam','vishal']      # iterarting through loop\n",
    "for name in friends:\n",
    "    print('Happy Holi ',name.title())\n",
    "print('Done!')    "
   ]
  },
  {
   "cell_type": "code",
   "execution_count": 39,
   "metadata": {},
   "outputs": [
    {
     "name": "stdout",
     "output_type": "stream",
     "text": [
      "22 1\n",
      "23 2\n",
      "24 3\n",
      "25 4\n",
      "26 5\n",
      "27 6\n",
      "28 7\n",
      "29 8\n",
      "30 9\n",
      "31 10\n",
      "32 11\n",
      "33 12\n",
      "34 13\n",
      "35 14\n",
      "36 15\n",
      "37 16\n",
      "38 17\n",
      "39 18\n",
      "40 19\n",
      "41 20\n",
      "42 21\n",
      "43 22\n",
      "44 23\n",
      "45 24\n",
      "46 25\n",
      "47 26\n",
      "48 27\n",
      "49 28\n",
      "50 29\n",
      "51 30\n",
      "52 31\n",
      "53 32\n",
      "54 33\n",
      "55 34\n",
      "56 35\n",
      "57 36\n",
      "58 37\n",
      "59 38\n",
      "60 39\n",
      "61 40\n",
      "62 41\n",
      "63 42\n",
      "64 43\n",
      "65 44\n",
      "66 45\n",
      "67 46\n",
      "68 47\n",
      "69 48\n",
      "70 49\n",
      "71 50\n",
      "72 51\n",
      "73 52\n",
      "74 53\n",
      "75 54\n",
      "76 55\n",
      "77 56\n"
     ]
    }
   ],
   "source": [
    "count=1\n",
    "for c in range(22,78):\n",
    "    print(c,count)\n",
    "    count+=1"
   ]
  },
  {
   "cell_type": "code",
   "execution_count": 40,
   "metadata": {},
   "outputs": [
    {
     "name": "stdout",
     "output_type": "stream",
     "text": [
      "N 0\n",
      "O 1\n",
      "i 2\n",
      "d 3\n",
      "a 4\n",
      "  5\n",
      "E 6\n",
      "l 7\n",
      "e 8\n",
      "c 9\n",
      "t 10\n",
      "r 11\n",
      "o 12\n",
      "n 13\n",
      "i 14\n",
      "c 15\n",
      "  16\n",
      "C 17\n",
      "i 18\n",
      "t 19\n",
      "y 20\n"
     ]
    }
   ],
   "source": [
    "count=0                            # counting and printing character\n",
    "string=\"NOida Electronic City\"\n",
    "for i in string:\n",
    "    print(i,count)\n",
    "    count+=1"
   ]
  },
  {
   "cell_type": "code",
   "execution_count": 43,
   "metadata": {},
   "outputs": [
    {
     "name": "stdout",
     "output_type": "stream",
     "text": [
      "22\n",
      "45\n",
      "69\n",
      "94\n",
      "120\n",
      "147\n",
      "175\n",
      "204\n"
     ]
    }
   ],
   "source": [
    "total=0                         # sum using for loop\n",
    "for c in range(22,30):\n",
    "    total+=c\n",
    "    print(total)\n",
    "    "
   ]
  },
  {
   "cell_type": "code",
   "execution_count": 44,
   "metadata": {},
   "outputs": [
    {
     "data": {
      "text/plain": [
       "204"
      ]
     },
     "execution_count": 44,
     "metadata": {},
     "output_type": "execute_result"
    }
   ],
   "source": [
    "sum(list(range(22,30)))     # sum using built-in function "
   ]
  },
  {
   "cell_type": "code",
   "execution_count": 47,
   "metadata": {},
   "outputs": [
    {
     "name": "stdout",
     "output_type": "stream",
     "text": [
      "[2, 3, 4, 5]\n",
      "[2, 3, 4, 5, 6, 7, 8, 9, 0]\n",
      "[2, 4, 6, 8, 0]\n"
     ]
    }
   ],
   "source": [
    "list4=[2,3,4,5,6,7,8,9,0]\n",
    "print(list4[0:4])\n",
    "print(list4[:])\n",
    "print(list4[::2])        # stepping 2 indexes"
   ]
  },
  {
   "cell_type": "code",
   "execution_count": null,
   "metadata": {},
   "outputs": [],
   "source": []
  }
 ],
 "metadata": {
  "kernelspec": {
   "display_name": "Python 3",
   "language": "python",
   "name": "python3"
  },
  "language_info": {
   "codemirror_mode": {
    "name": "ipython",
    "version": 3
   },
   "file_extension": ".py",
   "mimetype": "text/x-python",
   "name": "python",
   "nbconvert_exporter": "python",
   "pygments_lexer": "ipython3",
   "version": "3.7.1"
  }
 },
 "nbformat": 4,
 "nbformat_minor": 2
}
