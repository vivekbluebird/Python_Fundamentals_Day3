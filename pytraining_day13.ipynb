{
 "cells": [
  {
   "cell_type": "code",
   "execution_count": 2,
   "metadata": {},
   "outputs": [
    {
     "name": "stdout",
     "output_type": "stream",
     "text": [
      "\n",
      "Your name will be written as kumar Vivek\n",
      "\n",
      "Your name will be written as kumari Jenny\n",
      "\n",
      "Your name will be written as kumari Pragya\n",
      "\n",
      "Your name will be written as kumari Akanksha\n",
      "\n",
      "Your name will be written as kumari Swati\n"
     ]
    }
   ],
   "source": [
    "def fun(name):\n",
    "    print(f\"\\nYour name will be written as kumar {name.title()}\")\n",
    "    \n",
    "def fun1(name):\n",
    "    print(f\"\\nYour name will be written as kumari {name.title()}\")\n",
    "    \n",
    "fun('vivek') \n",
    "fun1('jenny') \n",
    "fun1('pragya')\n",
    "fun1('akanksha')\n",
    "fun1('swati') "
   ]
  },
  {
   "cell_type": "code",
   "execution_count": 4,
   "metadata": {},
   "outputs": [
    {
     "name": "stdout",
     "output_type": "stream",
     "text": [
      "\n",
      "Your name will be written as kumar Vivek\n",
      "\n",
      "Your name will be written as kumari Jenny\n"
     ]
    }
   ],
   "source": [
    "def fun2():\n",
    "    fun('vivek')\n",
    "    fun1('jenny')\n",
    "fun2()    "
   ]
  },
  {
   "cell_type": "code",
   "execution_count": 8,
   "metadata": {},
   "outputs": [
    {
     "name": "stdout",
     "output_type": "stream",
     "text": [
      "\n",
      " This is a Neem tree. \n",
      " Its scientific name is Azadhirachta Indica\n",
      "\n",
      " This is a Banyan tree. \n",
      " Its scientific name is Ficus Benghalensis\n",
      "\n",
      " This is a Tobacco tree. \n",
      " Its scientific name is Nicotina Tobaccum\n",
      "\n",
      " This is a Mango tree. \n",
      " Its scientific name is Magniferra Indica\n",
      "\n",
      " This is a Heena(Mehndi) tree. \n",
      " Its scientific name is Lawsonia Inermis\n"
     ]
    }
   ],
   "source": [
    "def descr(sc_name,tree_name):\n",
    "    print(f\"\\n This is a {tree_name.title()} tree. \\n Its scientific name is {sc_name.title()}\")\n",
    "    \n",
    "descr('azadhirachta indica','neem') \n",
    "descr('ficus benghalensis','banyan')\n",
    "descr('nicotina tobaccum','tobacco') \n",
    "descr('magniferra indica','mango') \n",
    "descr('lawsonia inermis','heena(mehndi)') "
   ]
  },
  {
   "cell_type": "code",
   "execution_count": 15,
   "metadata": {},
   "outputs": [
    {
     "name": "stdout",
     "output_type": "stream",
     "text": [
      "\n",
      " This is a Mango tree. \n",
      " Its scientific name is Magniferra Indica\n",
      "\n",
      " This is a Heena(Mehndi) tree. \n",
      " Its scientific name is Lawsonia Inermis\n",
      "\n",
      " This is a Peepal tree. \n",
      " Its scientific name is Pysium Sataivum\n"
     ]
    }
   ],
   "source": [
    "def descr(sc_name,tree_name='peepal'):\n",
    "    print(f\"\\n This is a {tree_name.title()} tree. \\n Its scientific name is {sc_name.title()}\")\n",
    "    \n",
    "descr('magniferra indica','mango') \n",
    "descr('lawsonia inermis','heena(mehndi)')     \n",
    "descr('pysium sataivum')"
   ]
  },
  {
   "cell_type": "code",
   "execution_count": 13,
   "metadata": {},
   "outputs": [
    {
     "name": "stdout",
     "output_type": "stream",
     "text": [
      "45\n",
      "45\n",
      "45\n"
     ]
    }
   ],
   "source": [
    "def print3(num):\n",
    "    print(num)\n",
    "    print(num)\n",
    "    print(num)\n",
    "\n",
    "print3(45)    \n",
    "    \n"
   ]
  },
  {
   "cell_type": "code",
   "execution_count": 16,
   "metadata": {},
   "outputs": [
    {
     "ename": "NameError",
     "evalue": "name 'math' is not defined",
     "output_type": "error",
     "traceback": [
      "\u001b[1;31m---------------------------------------------------------------------------\u001b[0m",
      "\u001b[1;31mNameError\u001b[0m                                 Traceback (most recent call last)",
      "\u001b[1;32m<ipython-input-16-0e12790c653c>\u001b[0m in \u001b[0;36m<module>\u001b[1;34m\u001b[0m\n\u001b[1;32m----> 1\u001b[1;33m \u001b[0mprint3\u001b[0m\u001b[1;33m(\u001b[0m\u001b[0mmath\u001b[0m\u001b[1;33m.\u001b[0m\u001b[0mpi\u001b[0m\u001b[1;33m)\u001b[0m\u001b[1;33m\u001b[0m\u001b[1;33m\u001b[0m\u001b[0m\n\u001b[0m",
      "\u001b[1;31mNameError\u001b[0m: name 'math' is not defined"
     ]
    }
   ],
   "source": [
    "print3(math.pi)"
   ]
  },
  {
   "cell_type": "code",
   "execution_count": 17,
   "metadata": {},
   "outputs": [
    {
     "name": "stdout",
     "output_type": "stream",
     "text": [
      "3.141592653589793\n",
      "3.141592653589793\n",
      "3.141592653589793\n"
     ]
    }
   ],
   "source": [
    "import math\n",
    "print3(math.pi)"
   ]
  },
  {
   "cell_type": "code",
   "execution_count": 23,
   "metadata": {},
   "outputs": [
    {
     "name": "stdout",
     "output_type": "stream",
     "text": [
      "here is your lucky number\t here is your lucky number\t here is your lucky number\t here is your lucky number\t \n",
      "here is your lucky number\t here is your lucky number\t here is your lucky number\t here is your lucky number\t \n",
      "here is your lucky number\t here is your lucky number\t here is your lucky number\t here is your lucky number\t \n"
     ]
    }
   ],
   "source": [
    "print3('here is your lucky number\\t '*4)"
   ]
  },
  {
   "cell_type": "code",
   "execution_count": 26,
   "metadata": {},
   "outputs": [
    {
     "data": {
      "text/plain": [
       "11"
      ]
     },
     "execution_count": 26,
     "metadata": {},
     "output_type": "execute_result"
    }
   ],
   "source": [
    "def addtwo(a,b):\n",
    "    adder=a+b\n",
    "    return adder\n",
    "    \n",
    "addtwo(5,6)"
   ]
  },
  {
   "cell_type": "code",
   "execution_count": 35,
   "metadata": {},
   "outputs": [
    {
     "name": "stdout",
     "output_type": "stream",
     "text": [
      "Grade C\n"
     ]
    }
   ],
   "source": [
    "def computegrade(score):\n",
    "    if score >= 0.9:\n",
    "        print('Grade A')\n",
    "        \n",
    "    elif score >= 0.8:\n",
    "        print('Grade B')\n",
    "        \n",
    "    elif score >= 0.7:\n",
    "        print('Grade C')\n",
    "        \n",
    "    elif score >= 0.6:\n",
    "        print('Grade D')\n",
    "        \n",
    "    else:\n",
    "        print('Grade F')\n",
    "        \n",
    "computegrade(0.7)        \n",
    "    \n",
    "    "
   ]
  },
  {
   "cell_type": "code",
   "execution_count": 46,
   "metadata": {},
   "outputs": [
    {
     "name": "stdout",
     "output_type": "stream",
     "text": [
      "0.9715904094062132\n",
      "0.37042096529329716\n",
      "0.8840480179691116\n",
      "0.9410370984267638\n",
      "0.21608298316661045\n",
      "0.4355587748786808\n",
      "0.06763672954969302\n",
      "0.5002589476019789\n",
      "0.31421429585466687\n",
      "0.17520975270389905\n"
     ]
    }
   ],
   "source": [
    "import random\n",
    "def randomnum(num):\n",
    "    for i in range(num):\n",
    "        num=random.random()\n",
    "        print(num)\n",
    "    \n",
    "        \n",
    "randomnum(10)        "
   ]
  },
  {
   "cell_type": "code",
   "execution_count": 58,
   "metadata": {},
   "outputs": [
    {
     "name": "stdout",
     "output_type": "stream",
     "text": [
      "Lets play the ludo game using random number!!! Check your luck\n",
      "\n",
      "fayaz sir won the toss\n",
      "\n",
      "fayaz sir is winner of ludo game. fayaz sir's Score is:, 7, vivek's score is:, 6,\n",
      "\n",
      "fayaz sir won the toss\n",
      "\n",
      "fayaz sir is winner of ludo game. fayaz sir's Score is:, 9, vivek's score is:, 4,\n",
      "\n",
      "vivek won the toss\n",
      "\n",
      "fayaz sir is winner of ludo game. fayaz sir's Score is:, 7, vivek's score is:, 7,\n",
      "\n",
      "vivek won the toss\n",
      "\n",
      "fayaz sir is winner of ludo game. fayaz sir's Score is:, 7, vivek's score is:, 6,\n",
      "\n",
      "vivek won the toss\n",
      "\n",
      "fayaz sir is winner of ludo game. fayaz sir's Score is:, 3, vivek's score is:, 3,\n"
     ]
    }
   ],
   "source": [
    "import random\n",
    "firstplyer='vivek'\n",
    "secondplyer='fayaz sir'\n",
    "\n",
    "vivekscore=0\n",
    "fayazsirscore=0\n",
    "\n",
    "dice1=[1,2,3,4,5,6]\n",
    "dice2=[1,2,3,4,5,6]\n",
    "\n",
    "\n",
    "def ludogame():\n",
    "    \n",
    "    for i in range(6):\n",
    "        \n",
    "        random.shuffle(dice1)\n",
    "        random.shuffle(dice2)\n",
    "        \n",
    "        num1=random.choice(dice1)\n",
    "        num2=random.choice(dice2)\n",
    "        \n",
    "        return num1 + num2\n",
    "    \n",
    "print('Lets play the ludo game using random number!!! Check your luck')\n",
    "\n",
    "for i in range(5):\n",
    "    vivektossnum=random.randint(1,100)\n",
    "    fayazsirtossnum=random.randint(1,100)\n",
    "    \n",
    "    if(vivektossnum>fayazsirtossnum):\n",
    "        \n",
    "        print(f\"\\n{firstplyer} won the toss\")\n",
    "        vivekscore=ludogame()\n",
    "        fayazsirscore=ludogame()\n",
    "        \n",
    "    else:\n",
    "        \n",
    "        print(f\"\\n{secondplyer} won the toss\")\n",
    "        fayazsirscore=ludogame()\n",
    "        vivekscore=ludogame()\n",
    "        \n",
    "    if(vivekscore > fayazsirscore):\n",
    "        \n",
    "        print (f\"\\n{firstplyer} is winner of ludo game. {firstplyer}'s Score is:, {vivekscore}, {secondplyer}'s score is:, {fayazsirscore},\")\n",
    "        \n",
    "    else:\n",
    "        \n",
    "        print(f\"\\n{secondplyer} is winner of ludo game. {secondplyer}'s Score is:, {fayazsirscore}, {firstplyer}'s score is:, {vivekscore},\")"
   ]
  },
  {
   "cell_type": "code",
   "execution_count": null,
   "metadata": {},
   "outputs": [],
   "source": []
  }
 ],
 "metadata": {
  "kernelspec": {
   "display_name": "Python 3",
   "language": "python",
   "name": "python3"
  },
  "language_info": {
   "codemirror_mode": {
    "name": "ipython",
    "version": 3
   },
   "file_extension": ".py",
   "mimetype": "text/x-python",
   "name": "python",
   "nbconvert_exporter": "python",
   "pygments_lexer": "ipython3",
   "version": "3.7.1"
  }
 },
 "nbformat": 4,
 "nbformat_minor": 2
}
