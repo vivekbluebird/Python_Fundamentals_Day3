{
 "cells": [
  {
   "cell_type": "code",
   "execution_count": 4,
   "metadata": {},
   "outputs": [
    {
     "name": "stdout",
     "output_type": "stream",
     "text": [
      "['cricket', 'football', 'badminton', 'hockey', 'tennis', 'volley ball', 'kabaddi', 'shooting']\n"
     ]
    }
   ],
   "source": [
    "games=['cricket','football','badminton','hockey','tennis','volley ball','kabaddi','shooting']  # list creation\n",
    "print(games)"
   ]
  },
  {
   "cell_type": "code",
   "execution_count": 5,
   "metadata": {},
   "outputs": [
    {
     "name": "stdout",
     "output_type": "stream",
     "text": [
      "['badminton', 'cricket', 'football', 'hockey', 'kabaddi', 'shooting', 'tennis', 'volley ball']\n"
     ]
    }
   ],
   "source": [
    "print(sorted(games))      #temporary sorting "
   ]
  },
  {
   "cell_type": "code",
   "execution_count": 6,
   "metadata": {},
   "outputs": [
    {
     "name": "stdout",
     "output_type": "stream",
     "text": [
      "['cricket', 'football', 'badminton', 'hockey', 'tennis', 'volley ball', 'kabaddi', 'shooting']\n"
     ]
    }
   ],
   "source": [
    "print(games)   # as the sorting was temporary we got shuffled list"
   ]
  },
  {
   "cell_type": "code",
   "execution_count": 7,
   "metadata": {},
   "outputs": [
    {
     "name": "stdout",
     "output_type": "stream",
     "text": [
      "['badminton', 'cricket', 'football', 'hockey', 'kabaddi', 'shooting', 'tennis', 'volley ball']\n"
     ]
    }
   ],
   "source": [
    "games.sort()        # permanent sorting\n",
    "print(games)"
   ]
  },
  {
   "cell_type": "code",
   "execution_count": 8,
   "metadata": {},
   "outputs": [
    {
     "name": "stdout",
     "output_type": "stream",
     "text": [
      "['badminton', 'cricket', 'football', 'hockey', 'kabaddi', 'shooting', 'tennis', 'volley ball']\n"
     ]
    }
   ],
   "source": [
    "print(games)     # now there is no shuffeling as sorting was permanent"
   ]
  },
  {
   "cell_type": "code",
   "execution_count": 10,
   "metadata": {},
   "outputs": [
    {
     "name": "stdout",
     "output_type": "stream",
     "text": [
      "['ball', 'bat', 'gun', 'nets', 'racket', 'shoes', 'stick', 'wickets']\n"
     ]
    }
   ],
   "source": [
    "equip=['bat','ball','stick','shoes','gun','racket','nets','wickets']   # another list\n",
    "equip.sort()\n",
    "print(equip)"
   ]
  },
  {
   "cell_type": "code",
   "execution_count": 24,
   "metadata": {},
   "outputs": [
    {
     "name": "stdout",
     "output_type": "stream",
     "text": [
      "['badminton', 'ball', 'bat', 'cricket', 'football', 'gun', 'hockey', 'kabaddi', 'nets', 'racket', 'shoes', 'shooting', 'stick', 'tennis', 'volley ball', 'wickets']\n",
      "['badminton', 'ball', 'bat', 'cricket', 'football', 'gun', 'hockey', 'kabaddi', 'nets', 'racket', 'shoes', 'shooting', 'stick', 'tennis', 'volley ball', 'wickets', 'swimming']\n",
      "['badminton', 'ball', 'bat', 'cricket', 'football', 'gun', 'hockey', 'kabaddi', 'nets', 'racket', 'shoes', 'shooting', 'stick', 'swimming', 'tennis', 'volley ball', 'wickets']\n"
     ]
    }
   ],
   "source": [
    "merge=games+equip   # concatenating both lists\n",
    "merge.sort()\n",
    "print(merge)\n",
    "\n",
    "merge.append('swimming')    # adding element to the list and sorting ,append add the element to the last\n",
    "print(merge)\n",
    "\n",
    "merge.sort()          # sorting again\n",
    "print(merge)"
   ]
  },
  {
   "cell_type": "code",
   "execution_count": 26,
   "metadata": {},
   "outputs": [
    {
     "name": "stdout",
     "output_type": "stream",
     "text": [
      "['badminton', 'ball', 'bat', 'cricket', 'football', 'table tennis', 'table tennis', 'gun', 'hockey', 'kabaddi', 'nets', 'racket', 'shoes', 'shooting', 'stick', 'swimming', 'tennis', 'volley ball', 'wickets']\n"
     ]
    }
   ],
   "source": [
    "merge.insert(5,'table tennis')\n",
    "print(merge)"
   ]
  },
  {
   "cell_type": "code",
   "execution_count": 31,
   "metadata": {},
   "outputs": [
    {
     "name": "stdout",
     "output_type": "stream",
     "text": [
      "Swimming\n",
      "Tennis\n",
      "Volley Ball\n",
      "Wickets\n",
      "Badminton\n"
     ]
    }
   ],
   "source": [
    "print(merge[-4].title())\n",
    "print(merge[-3].title())\n",
    "print(merge[-2].title())\n",
    "print(merge[-1].title())\n",
    "print(merge[0].title())\n"
   ]
  },
  {
   "cell_type": "code",
   "execution_count": 36,
   "metadata": {},
   "outputs": [
    {
     "data": {
      "text/plain": [
       "'nets'"
      ]
     },
     "execution_count": 36,
     "metadata": {},
     "output_type": "execute_result"
    }
   ],
   "source": [
    "merge.pop(0)      # pop will remove an element but also makes a carbon copy by default it deletes from the end\n",
    "merge.pop(-3)\n",
    "merge.pop(-2)\n",
    "merge.pop(-1)\n",
    "merge.pop(6)"
   ]
  },
  {
   "cell_type": "code",
   "execution_count": 35,
   "metadata": {},
   "outputs": [
    {
     "name": "stdout",
     "output_type": "stream",
     "text": [
      "['cricket', 'football', 'table tennis', 'table tennis', 'gun', 'hockey', 'kabaddi', 'nets', 'racket', 'shoes', 'shooting', 'stick']\n"
     ]
    }
   ],
   "source": [
    "print(merge)"
   ]
  },
  {
   "cell_type": "code",
   "execution_count": 37,
   "metadata": {},
   "outputs": [],
   "source": [
    "merge.insert(6,'nets')     # inserting elements at the particular position"
   ]
  },
  {
   "cell_type": "code",
   "execution_count": 38,
   "metadata": {},
   "outputs": [
    {
     "name": "stdout",
     "output_type": "stream",
     "text": [
      "['football', 'table tennis', 'table tennis', 'gun', 'hockey', 'kabaddi', 'nets', 'racket']\n"
     ]
    }
   ],
   "source": [
    "print(merge)"
   ]
  },
  {
   "cell_type": "code",
   "execution_count": 40,
   "metadata": {},
   "outputs": [],
   "source": [
    "del merge[3]         # permanent deletion of the elements"
   ]
  },
  {
   "cell_type": "code",
   "execution_count": 41,
   "metadata": {},
   "outputs": [
    {
     "name": "stdout",
     "output_type": "stream",
     "text": [
      "['football', 'table tennis', 'table tennis', 'hockey', 'kabaddi', 'nets', 'racket']\n"
     ]
    }
   ],
   "source": [
    "print(merge)"
   ]
  },
  {
   "cell_type": "code",
   "execution_count": 42,
   "metadata": {},
   "outputs": [
    {
     "name": "stdout",
     "output_type": "stream",
     "text": [
      "['football', 'table tennis', 'hockey', 'guns', 'kabaddi', 'nets', 'racket']\n"
     ]
    }
   ],
   "source": [
    "merge.insert(4,'guns')\n",
    "del merge[2]\n",
    "print(merge)"
   ]
  },
  {
   "cell_type": "code",
   "execution_count": 43,
   "metadata": {},
   "outputs": [
    {
     "data": {
      "text/plain": [
       "'racket'"
      ]
     },
     "execution_count": 43,
     "metadata": {},
     "output_type": "execute_result"
    }
   ],
   "source": [
    "merge.pop()     # default removal by pop()"
   ]
  },
  {
   "cell_type": "code",
   "execution_count": 45,
   "metadata": {},
   "outputs": [
    {
     "name": "stdout",
     "output_type": "stream",
     "text": [
      "['table tennis', 'nets', 'kabaddi', 'hockey', 'guns', 'football']\n"
     ]
    }
   ],
   "source": [
    "merge.sort(reverse=True)     # reverse sorting of the list\n",
    "print(merge)"
   ]
  },
  {
   "cell_type": "code",
   "execution_count": 48,
   "metadata": {},
   "outputs": [
    {
     "name": "stdout",
     "output_type": "stream",
     "text": [
      "['badminton', 'cricket', 'football', 'hockey', 'kabaddi', 'shooting', 'tennis', 'volley ball', 'cricket', 'cricket', 'badminton', 'cricket', 'badminton']\n"
     ]
    }
   ],
   "source": [
    "games.append('cricket')\n",
    "games.append('badminton')\n",
    "print(games)"
   ]
  },
  {
   "cell_type": "code",
   "execution_count": 54,
   "metadata": {},
   "outputs": [
    {
     "data": {
      "text/plain": [
       "7"
      ]
     },
     "execution_count": 54,
     "metadata": {},
     "output_type": "execute_result"
    }
   ],
   "source": [
    "games.index('volley ball')    # finding the index of the element"
   ]
  },
  {
   "cell_type": "code",
   "execution_count": 57,
   "metadata": {},
   "outputs": [
    {
     "name": "stdout",
     "output_type": "stream",
     "text": [
      "['badminton', 'cricket', 'football', 'hockey', 'kabaddi', 'shooting', 'tennis', 'volley ball']\n"
     ]
    }
   ],
   "source": [
    "del games[8:12]     # deleting multiple elements from the list\n",
    "print(games)"
   ]
  },
  {
   "cell_type": "code",
   "execution_count": 58,
   "metadata": {},
   "outputs": [
    {
     "name": "stdout",
     "output_type": "stream",
     "text": [
      "['volley ball', 'tennis', 'shooting', 'kabaddi', 'hockey', 'football', 'cricket', 'badminton']\n"
     ]
    }
   ],
   "source": [
    "games.reverse()       # reversing by another method\n",
    "print(games)"
   ]
  },
  {
   "cell_type": "code",
   "execution_count": null,
   "metadata": {},
   "outputs": [],
   "source": []
  }
 ],
 "metadata": {
  "kernelspec": {
   "display_name": "Python 3",
   "language": "python",
   "name": "python3"
  },
  "language_info": {
   "codemirror_mode": {
    "name": "ipython",
    "version": 3
   },
   "file_extension": ".py",
   "mimetype": "text/x-python",
   "name": "python",
   "nbconvert_exporter": "python",
   "pygments_lexer": "ipython3",
   "version": "3.7.1"
  }
 },
 "nbformat": 4,
 "nbformat_minor": 2
}
