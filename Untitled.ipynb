{
 "cells": [
  {
   "cell_type": "code",
   "execution_count": 17,
   "metadata": {
    "scrolled": true
   },
   "outputs": [
    {
     "name": "stdout",
     "output_type": "stream",
     "text": [
      "{'Holi': 'colors', 'Diwali': 'lights', 'Id': 'sewai', 'Christmas': 'santa', 'Chhath': 'sugercane'}\n"
     ]
    }
   ],
   "source": [
    "festival={'Holi':'colors',\n",
    "          'Diwali':'lights',\n",
    "          'Id':'sewai',\n",
    "          'Christmas':'santa',\n",
    "          'Chhath':'sugercane'}\n",
    "print(festival)"
   ]
  },
  {
   "cell_type": "code",
   "execution_count": 18,
   "metadata": {
    "scrolled": false
   },
   "outputs": [
    {
     "name": "stdout",
     "output_type": "stream",
     "text": [
      "\n",
      "\n",
      " Holi is the festival of: Colors \n",
      "\n",
      " Diwali is the festival of: Lights \n",
      "\n",
      " Id is the festival of: Sewai \n",
      "\n",
      " Christmas is the festival of: Santa \n",
      "\n",
      " Chhath is the festival of: Sugercane\n"
     ]
    }
   ],
   "source": [
    "print(f\"\\n\\n Holi is the festival of: {festival['Holi'].title()} \\n\\n Diwali is the festival of: {festival['Diwali'].title()} \\n\\n Id is the festival of: {festival['Id'].title()} \\n\\n Christmas is the festival of: {festival['Christmas'].title()} \\n\\n Chhath is the festival of: {festival['Chhath'].title()}\")"
   ]
  },
  {
   "cell_type": "code",
   "execution_count": 19,
   "metadata": {},
   "outputs": [
    {
     "name": "stdout",
     "output_type": "stream",
     "text": [
      "{'Holi': 'colors', 'Diwali': 'lights', 'Id': 'sewai', 'Christmas': 'x-mas', 'Chhath': 'sugercane'}\n"
     ]
    }
   ],
   "source": [
    "festival['Christmas']='x-mas'\n",
    "print(festival)"
   ]
  },
  {
   "cell_type": "code",
   "execution_count": 20,
   "metadata": {},
   "outputs": [
    {
     "data": {
      "text/plain": [
       "dict_values(['colors', 'lights', 'sewai', 'x-mas', 'sugercane'])"
      ]
     },
     "execution_count": 20,
     "metadata": {},
     "output_type": "execute_result"
    }
   ],
   "source": [
    "festival.values()"
   ]
  },
  {
   "cell_type": "code",
   "execution_count": 21,
   "metadata": {},
   "outputs": [
    {
     "data": {
      "text/plain": [
       "dict_keys(['Holi', 'Diwali', 'Id', 'Christmas', 'Chhath'])"
      ]
     },
     "execution_count": 21,
     "metadata": {},
     "output_type": "execute_result"
    }
   ],
   "source": [
    "festival.keys()"
   ]
  },
  {
   "cell_type": "code",
   "execution_count": 22,
   "metadata": {},
   "outputs": [
    {
     "name": "stdout",
     "output_type": "stream",
     "text": [
      "\n",
      "last item is popped out-------|v|\n",
      "\n",
      "{'Holi': 'colors', 'Diwali': 'lights', 'Id': 'sewai', 'Christmas': 'x-mas'}\n"
     ]
    }
   ],
   "source": [
    "festival.popitem()\n",
    "print(\"\\nlast item is popped out-------|v|\\n\")\n",
    "print(festival)"
   ]
  },
  {
   "cell_type": "code",
   "execution_count": 23,
   "metadata": {},
   "outputs": [
    {
     "data": {
      "text/plain": [
       "dict_items([('Holi', 'colors'), ('Diwali', 'lights'), ('Id', 'sewai'), ('Christmas', 'x-mas')])"
      ]
     },
     "execution_count": 23,
     "metadata": {},
     "output_type": "execute_result"
    }
   ],
   "source": [
    "festival.items()"
   ]
  },
  {
   "cell_type": "code",
   "execution_count": 26,
   "metadata": {},
   "outputs": [
    {
     "name": "stdout",
     "output_type": "stream",
     "text": [
      "{'k': 1, 'i': 2, 'n': 2, 'g': 1, 'd': 1, 'o': 1, 's': 2, 'a': 2, 'u': 1, 'r': 1}\n"
     ]
    }
   ],
   "source": [
    "word='kingdinosauras'\n",
    "c=dict()\n",
    "for i in word:\n",
    "    if i not in c:\n",
    "        c[i]=1\n",
    "        \n",
    "    else:\n",
    "        c[i]=c[i]+1\n",
    "       \n",
    "print(c)    \n",
    "        "
   ]
  },
  {
   "cell_type": "code",
   "execution_count": 27,
   "metadata": {},
   "outputs": [
    {
     "name": "stdout",
     "output_type": "stream",
     "text": [
      "{'k': 1, 'i': 2, 'n': 2, 'g': 1, 'd': 1, 'o': 1, 's': 2, 'a': 2, 'u': 1, 'r': 1}\n"
     ]
    }
   ],
   "source": [
    "word='kingdinosauras'\n",
    "c=dict()\n",
    "for i in word:\n",
    "    c[i]=c.get(i,0)+1\n",
    "    \n",
    "print(c)    "
   ]
  },
  {
   "cell_type": "code",
   "execution_count": 28,
   "metadata": {},
   "outputs": [
    {
     "name": "stdout",
     "output_type": "stream",
     "text": [
      "anisha 22\n",
      "junaid 100\n",
      "sohini 16\n"
     ]
    }
   ],
   "source": [
    "counts = { 'vivek' : 1 , 'anisha' : 22, 'junaid': 100, 'sohini':16}\n",
    "for key in counts:\n",
    "    if counts[key]>=15:\n",
    "        print(key,counts[key])"
   ]
  },
  {
   "cell_type": "code",
   "execution_count": 30,
   "metadata": {},
   "outputs": [
    {
     "name": "stdout",
     "output_type": "stream",
     "text": [
      "['vivek', 'anisha', 'junaid', 'sohini']\n"
     ]
    }
   ],
   "source": [
    "l=list(counts.keys())\n",
    "print(l)"
   ]
  },
  {
   "cell_type": "code",
   "execution_count": null,
   "metadata": {},
   "outputs": [],
   "source": []
  }
 ],
 "metadata": {
  "kernelspec": {
   "display_name": "Python 3",
   "language": "python",
   "name": "python3"
  },
  "language_info": {
   "codemirror_mode": {
    "name": "ipython",
    "version": 3
   },
   "file_extension": ".py",
   "mimetype": "text/x-python",
   "name": "python",
   "nbconvert_exporter": "python",
   "pygments_lexer": "ipython3",
   "version": "3.7.1"
  }
 },
 "nbformat": 4,
 "nbformat_minor": 2
}
