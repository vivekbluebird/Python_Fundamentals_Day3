{
 "cells": [
  {
   "cell_type": "code",
   "execution_count": 4,
   "metadata": {},
   "outputs": [
    {
     "name": "stdout",
     "output_type": "stream",
     "text": [
      "vivek\n",
      "\n",
      "Hello Vivek, How are you?\n"
     ]
    }
   ],
   "source": [
    "class T1():\n",
    "    def createname(self,name):\n",
    "        self.name=name\n",
    "        \n",
    "    def displayname(self):\n",
    "        print(self.name)\n",
    "        \n",
    "    def greetname(self):\n",
    "        print(f\"\\nHello {self.name.title()}, How are you?\")\n",
    "        \n",
    "car=T1()\n",
    "car.createname('vivek')\n",
    "car.displayname()\n",
    "car.greetname()"
   ]
  },
  {
   "cell_type": "code",
   "execution_count": 5,
   "metadata": {},
   "outputs": [
    {
     "name": "stdout",
     "output_type": "stream",
     "text": [
      "So far 1\n",
      "So far 2\n",
      "So far 3\n"
     ]
    }
   ],
   "source": [
    "class PartyAnimal:\n",
    "    x = 0\n",
    "    def party(self) :\n",
    "        self.x = self.x + 1\n",
    "        print(\"So far\",self.x)\n",
    "        \n",
    "an = PartyAnimal()\n",
    "an.party()\n",
    "an.party()\n",
    "an.party()\n",
    "    "
   ]
  },
  {
   "cell_type": "code",
   "execution_count": 11,
   "metadata": {},
   "outputs": [
    {
     "name": "stdout",
     "output_type": "stream",
     "text": [
      "\n",
      "hey var1\n",
      "\n",
      "hey var2\n"
     ]
    }
   ],
   "source": [
    "class Parent:\n",
    "    var1='hey var1'\n",
    "    var2='hey var2'\n",
    "    \n",
    "class Child(Parent):\n",
    "    pass\n",
    "xobj=Child()\n",
    "print(f\"\\n{xobj.var1}\")\n",
    "print(f\"\\n{xobj.var2}\")"
   ]
  },
  {
   "cell_type": "code",
   "execution_count": 15,
   "metadata": {},
   "outputs": [
    {
     "name": "stdout",
     "output_type": "stream",
     "text": [
      "Lion\n",
      "Rabbit\n",
      "Dog\n",
      "\n",
      "Lion\n",
      "Rabbit\n",
      "Hippo:\t Dog Is Changed To Hippo Now\n"
     ]
    }
   ],
   "source": [
    "class Animal:\n",
    "    an1='lion'\n",
    "    an2='rabbit'\n",
    "    an3='dog'\n",
    "    \n",
    "class Bird(Animal):\n",
    "    an3='hippo:\\t dog is changed to hippo now'\n",
    "    \n",
    "a=Animal()\n",
    "print(a.an1.title())\n",
    "print(a.an2.title())\n",
    "print(a.an3.title())\n",
    "\n",
    "b=Bird()\n",
    "print(f\"\\n{b.an1.title()}\")\n",
    "print(b.an2.title())\n",
    "print(b.an3.title())"
   ]
  },
  {
   "cell_type": "code",
   "execution_count": 33,
   "metadata": {},
   "outputs": [
    {
     "name": "stdout",
     "output_type": "stream",
     "text": [
      "hey dad\n",
      "\n",
      "hey mom\n",
      "i am changed to daughter\n",
      "\n",
      "i am changed to daughter\n",
      "hey mom\n",
      "hey son\n"
     ]
    }
   ],
   "source": [
    "class Dad:\n",
    "    x='hey dad'\n",
    "    \n",
    "class Mom(Dad):\n",
    "    y='hey mom'\n",
    "    x='i am changed to daughter'\n",
    "    \n",
    "class Son(Mom,Dad):\n",
    "    z='hey son'\n",
    "    \n",
    "a=Dad()\n",
    "print(a.x)\n",
    "b=Mom()\n",
    "print(f\"\\n{b.y}\")\n",
    "print(b.x)\n",
    "c=Son()\n",
    "print(f\"\\n{c.x}\")\n",
    "print(c.y)\n",
    "print(c.z)\n",
    "    "
   ]
  },
  {
   "cell_type": "code",
   "execution_count": 36,
   "metadata": {},
   "outputs": [
    {
     "name": "stdout",
     "output_type": "stream",
     "text": [
      "Ruby Is A Language Responsible\n",
      "For Building The Logic Behind\n",
      "Web Applications. Let'S First\n",
      "Learn The Fundamentals Of \n",
      "Ruby'S Syntax In This Lesson.\n"
     ]
    }
   ],
   "source": [
    "with open('ruby.txt') as file1:\n",
    "    content=file1.read().title()\n",
    "print(content)    \n",
    "\n"
   ]
  },
  {
   "cell_type": "code",
   "execution_count": 37,
   "metadata": {},
   "outputs": [
    {
     "name": "stdout",
     "output_type": "stream",
     "text": [
      "Ruby is a language responsible\n",
      "\n",
      "for building the logic behind\n",
      "\n",
      "web applications. Let's first\n",
      "\n",
      "learn the fundamentals of \n",
      "\n",
      "Ruby's syntax in this lesson.\n"
     ]
    }
   ],
   "source": [
    "file2='ruby.txt'\n",
    "with open(file2) as file:\n",
    "    for line in file:\n",
    "        print(line)\n"
   ]
  },
  {
   "cell_type": "code",
   "execution_count": 46,
   "metadata": {},
   "outputs": [],
   "source": [
    "file2='ruby.txt'\n",
    "with open(file2,'w') as file:\n",
    "    file.write('Ruby: A dynamic, general-purpose language used to build web applications.')"
   ]
  },
  {
   "cell_type": "code",
   "execution_count": 47,
   "metadata": {},
   "outputs": [
    {
     "name": "stdout",
     "output_type": "stream",
     "text": [
      "Ruby: A dynamic, general-purpose language used to build web applications.\n"
     ]
    }
   ],
   "source": [
    "file2='ruby.txt'\n",
    "with open(file2) as file:\n",
    "    for line in file:\n",
    "        print(line)\n"
   ]
  },
  {
   "cell_type": "code",
   "execution_count": 48,
   "metadata": {},
   "outputs": [],
   "source": [
    "file2='ruby.txt'\n",
    "with open(file2,'a') as file:\n",
    "    file.write(\"Ruby is a language responsible \\n for building the logic behind web applications.\\n Let's firstlearn the fundamentals \\n of Ruby's syntax in this lesson.\")"
   ]
  },
  {
   "cell_type": "code",
   "execution_count": 49,
   "metadata": {},
   "outputs": [
    {
     "name": "stdout",
     "output_type": "stream",
     "text": [
      "Ruby: A dynamic, general-purpose language used to build web applications.Ruby is a language responsible \n",
      "\n",
      " for building the logic behind web applications.\n",
      "\n",
      " Let's firstlearn the fundamentals \n",
      "\n",
      " of Ruby's syntax in this lesson.\n"
     ]
    }
   ],
   "source": [
    "file2='ruby.txt'\n",
    "with open(file2) as file:\n",
    "    for line in file:\n",
    "        print(line)\n"
   ]
  },
  {
   "cell_type": "code",
   "execution_count": 52,
   "metadata": {},
   "outputs": [
    {
     "name": "stdout",
     "output_type": "stream",
     "text": [
      "Line Count: 12\n"
     ]
    }
   ],
   "source": [
    "file = open('wiki.txt')\n",
    "count = 0\n",
    "for line in file:\n",
    "    count = count + 1\n",
    "print('Line Count:', count)\n"
   ]
  },
  {
   "cell_type": "code",
   "execution_count": 54,
   "metadata": {},
   "outputs": [
    {
     "name": "stdout",
     "output_type": "stream",
     "text": [
      "385\n",
      "1\tLists by nationali\n"
     ]
    }
   ],
   "source": [
    "file = open('wiki.txt')\n",
    "in1=file.read()\n",
    "print(len(in1))\n",
    "print(in1[:20])\n"
   ]
  },
  {
   "cell_type": "code",
   "execution_count": null,
   "metadata": {},
   "outputs": [],
   "source": []
  }
 ],
 "metadata": {
  "kernelspec": {
   "display_name": "Python 3",
   "language": "python",
   "name": "python3"
  },
  "language_info": {
   "codemirror_mode": {
    "name": "ipython",
    "version": 3
   },
   "file_extension": ".py",
   "mimetype": "text/x-python",
   "name": "python",
   "nbconvert_exporter": "python",
   "pygments_lexer": "ipython3",
   "version": "3.7.1"
  }
 },
 "nbformat": 4,
 "nbformat_minor": 2
}
